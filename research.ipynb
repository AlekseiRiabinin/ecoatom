{
 "cells": [
  {
   "cell_type": "code",
   "execution_count": 3,
   "metadata": {},
   "outputs": [],
   "source": [
    "sources = {}"
   ]
  },
  {
   "cell_type": "code",
   "execution_count": 4,
   "metadata": {},
   "outputs": [],
   "source": [
    "sources[\"source1\"] = {\"x\": 1000, \"plastic\": 0, \"glass\": 0, \"biowaste\": 0}\n",
    "sources[\"source2\"] = {\"x\": 1000, \"plastic\": 0, \"glass\": 0, \"biowaste\": 0}"
   ]
  },
  {
   "cell_type": "code",
   "execution_count": 5,
   "metadata": {},
   "outputs": [
    {
     "data": {
      "text/plain": [
       "{'source1': {'x': 1000, 'plastic': 0, 'glass': 0, 'biowaste': 0},\n",
       " 'source2': {'x': 1000, 'plastic': 0, 'glass': 0, 'biowaste': 0}}"
      ]
     },
     "execution_count": 5,
     "metadata": {},
     "output_type": "execute_result"
    }
   ],
   "source": [
    "sources"
   ]
  },
  {
   "cell_type": "code",
   "execution_count": 6,
   "metadata": {},
   "outputs": [],
   "source": [
    "sources[\"source1\"][\"plastic\"] = sources[\"source1\"][\"x\"] / 10\n",
    "sources[\"source1\"][\"glass\"] = sources[\"source1\"][\"x\"] / 50\n",
    "sources[\"source1\"][\"biowaste\"] = sources[\"source1\"][\"x\"] / 50\n",
    "\n",
    "sources[\"source2\"][\"plastic\"] = sources[\"source2\"][\"x\"] / 50\n",
    "sources[\"source2\"][\"glass\"] = sources[\"source2\"][\"x\"] / 20\n",
    "sources[\"source2\"][\"biowaste\"] = sources[\"source2\"][\"x\"] / 50"
   ]
  },
  {
   "cell_type": "code",
   "execution_count": 7,
   "metadata": {},
   "outputs": [
    {
     "data": {
      "text/plain": [
       "{'source1': {'x': 1000, 'plastic': 100.0, 'glass': 20.0, 'biowaste': 20.0},\n",
       " 'source2': {'x': 1000, 'plastic': 20.0, 'glass': 50.0, 'biowaste': 20.0}}"
      ]
     },
     "execution_count": 7,
     "metadata": {},
     "output_type": "execute_result"
    }
   ],
   "source": [
    "sources"
   ]
  },
  {
   "cell_type": "code",
   "execution_count": 1,
   "metadata": {},
   "outputs": [],
   "source": [
    "r_dict = {\n",
    "    \"source2\":{\"name\":\"source2\",\"plastic\":20,\"glass\":50,\"biowaste\":20},\n",
    "    \"source1\":{\"name\":\"source1\",\"plastic\":100,\"glass\":20,\"biowaste\":20},\n",
    "    \"x\":1000\n",
    "}"
   ]
  },
  {
   "cell_type": "code",
   "execution_count": 2,
   "metadata": {},
   "outputs": [
    {
     "data": {
      "text/plain": [
       "1000"
      ]
     },
     "execution_count": 2,
     "metadata": {},
     "output_type": "execute_result"
    }
   ],
   "source": [
    "r_dict[\"x\"]"
   ]
  },
  {
   "cell_type": "code",
   "execution_count": 8,
   "metadata": {},
   "outputs": [],
   "source": [
    "sinks = {\n",
    "    \"sink1\": {}, \"sink2\": {}, \"sink3\": {}, \"sink5\": {}, \n",
    "    \"sink6\": {}, \"sink7\": {}, \"sink8\": {}, \"sink9\": {}\n",
    "}"
   ]
  },
  {
   "cell_type": "code",
   "execution_count": null,
   "metadata": {},
   "outputs": [],
   "source": [
    "sinks[\"sink1\"][\"glass\"] = r_dict[\"x\"] // 300\n",
    "sinks[\"sink1\"][\"plastic\"] = r_dict[\"x\"] // 100\n",
    "sinks[\"sink1\"][\"distance\"] = 50\n",
    "\n",
    "sinks[\"sink2\"][\"plastic\"] = r_dict[\"x\"] // 50\n",
    "sinks[\"sink2\"][\"biowaste\"] = r_dict[\"x\"] // 150\n",
    "sinks[\"sink2\"][\"distance\"] = 100\n",
    "\n",
    "sinks[\"sink3\"][\"plastic\"] = r_dict[\"x\"] // 10\n",
    "sinks[\"sink3\"][\"biowaste\"] = r_dict[\"x\"] // 250\n",
    "sinks[\"sink3\"][\"distance\"] = \n",
    "\n",
    "sinks[\"sink5\"][\"glass\"] = r_dict[\"x\"] // 220\n",
    "sinks[\"sink5\"][\"biowaste\"] = r_dict[\"x\"] // 25\n",
    "sinks[\"sink5\"][\"distance\"] = \n",
    "\n",
    "sinks[\"sink6\"][\"glass\"] = r_dict[\"x\"] // 100\n",
    "sinks[\"sink6\"][\"biowaste\"] = r_dict[\"x\"] // 150\n",
    "sinks[\"sink6\"][\"distance\"] = \n",
    "\n",
    "sinks[\"sink7\"][\"plastic\"] = r_dict[\"x\"] // 100\n",
    "sinks[\"sink7\"][\"biowaste\"] = r_dict[\"x\"] // 250\n",
    "sinks[\"sink7\"][\"distance\"] = \n",
    "\n",
    "sinks[\"sink8\"][\"glass\"] = r_dict[\"x\"] // 35\n",
    "sinks[\"sink8\"][\"plastic\"] = r_dict[\"x\"] // 25\n",
    "sinks[\"sink8\"][\"biowaste\"] = r_dict[\"x\"] // 52\n",
    "sinks[\"sink8\"][\"distance\"] = \n",
    "\n",
    "sinks[\"sink9\"][\"plastic\"] = r_dict[\"x\"] // 250\n",
    "sinks[\"sink9\"][\"biowaste\"] = r_dict[\"x\"] // 20\n",
    "sinks[\"sink9\"][\"distance\"] = "
   ]
  },
  {
   "cell_type": "code",
   "execution_count": 9,
   "metadata": {},
   "outputs": [],
   "source": [
    "class Sink:\n",
    "    id: int \n",
    "    name: str\n",
    "    plastic: int\n",
    "    glass: int\n",
    "    biowaste: int\n",
    "    distance: int"
   ]
  },
  {
   "cell_type": "code",
   "execution_count": null,
   "metadata": {},
   "outputs": [
    {
     "ename": "AttributeError",
     "evalue": "type object 'Sink' has no attribute 'id'",
     "output_type": "error",
     "traceback": [
      "\u001b[1;31m---------------------------------------------------------------------------\u001b[0m",
      "\u001b[1;31mAttributeError\u001b[0m                            Traceback (most recent call last)",
      "Cell \u001b[1;32mIn[11], line 1\u001b[0m\n\u001b[1;32m----> 1\u001b[0m Sink\u001b[38;5;241m.\u001b[39mid\n",
      "\u001b[1;31mAttributeError\u001b[0m: type object 'Sink' has no attribute 'id'"
     ]
    }
   ],
   "source": []
  },
  {
   "cell_type": "code",
   "execution_count": 15,
   "metadata": {},
   "outputs": [
    {
     "data": {
      "text/plain": [
       "{'sink1': {'glass': 3.3333333333333335, 'plastic': 10.0},\n",
       " 'sink2': {'plastic': 20.0, 'biowaste': 6.666666666666667},\n",
       " 'sink3': {'plastic': 100.0, 'biowaste': 4.0},\n",
       " 'sink5': {'glass': 4.545454545454546, 'biowaste': 40.0},\n",
       " 'sink6': {'glass': 10.0, 'biowaste': 6.666666666666667},\n",
       " 'sink7': {'plastic': 10.0, 'biowaste': 4.0},\n",
       " 'sink8': {'glass': 28.571428571428573,\n",
       "  'plastic': 40.0,\n",
       "  'biowaste': 19.23076923076923},\n",
       " 'sink9': {'plastic': 4.0, 'biowaste': 50.0}}"
      ]
     },
     "execution_count": 15,
     "metadata": {},
     "output_type": "execute_result"
    }
   ],
   "source": [
    "sinks"
   ]
  },
  {
   "cell_type": "code",
   "execution_count": 19,
   "metadata": {},
   "outputs": [
    {
     "data": {
      "text/plain": [
       "{'sink1': {'glass': 3, 'plastic': 10},\n",
       " 'sink2': {'plastic': 20, 'biowaste': 6},\n",
       " 'sink3': {'plastic': 100, 'biowaste': 4},\n",
       " 'sink5': {'glass': 4, 'biowaste': 40},\n",
       " 'sink6': {'glass': 10, 'biowaste': 6},\n",
       " 'sink7': {'plastic': 10, 'biowaste': 4},\n",
       " 'sink8': {'glass': 28, 'plastic': 40, 'biowaste': 19},\n",
       " 'sink9': {'plastic': 4, 'biowaste': 50}}"
      ]
     },
     "execution_count": 19,
     "metadata": {},
     "output_type": "execute_result"
    }
   ],
   "source": [
    "sinks"
   ]
  }
 ],
 "metadata": {
  "kernelspec": {
   "display_name": "base",
   "language": "python",
   "name": "python3"
  },
  "language_info": {
   "codemirror_mode": {
    "name": "ipython",
    "version": 3
   },
   "file_extension": ".py",
   "mimetype": "text/x-python",
   "name": "python",
   "nbconvert_exporter": "python",
   "pygments_lexer": "ipython3",
   "version": "3.11.3"
  }
 },
 "nbformat": 4,
 "nbformat_minor": 2
}
